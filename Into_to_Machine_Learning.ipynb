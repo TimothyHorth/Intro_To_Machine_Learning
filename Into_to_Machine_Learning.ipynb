{
 "cells": [
  {
   "cell_type": "markdown",
   "metadata": {},
   "source": [
    "**Review**\n",
    "\n",
    "Hi, my name is Dmitry and I will be reviewing your project.\n",
    "  \n",
    "You can find my comments in colored markdown cells:\n",
    "  \n",
    "<div class=\"alert alert-success\">\n",
    "  If everything is done successfully.\n",
    "</div>\n",
    "  \n",
    "<div class=\"alert alert-warning\">\n",
    "  If I have some (optional) suggestions, or questions to think about, or general comments.\n",
    "</div>\n",
    "  \n",
    "<div class=\"alert alert-danger\">\n",
    "  If a section requires some corrections. Work can't be accepted with red comments.\n",
    "</div>\n",
    "  \n",
    "Please don't remove my comments, as it will make further review iterations much harder for me.\n",
    "  \n",
    "Feel free to reply to my comments or ask questions using the following template:\n",
    "  \n",
    "<div class=\"alert alert-info\">\n",
    "  For your comments and questions.\n",
    "</div>\n",
    "  \n",
    "First of all, thank you for turning in the project! You did a great job! The project is accepted. Keep up the good work on the next sprint!"
   ]
  },
  {
   "cell_type": "markdown",
   "metadata": {},
   "source": [
    "# Using Machine Learning to Recommend New Data Plans to Customers\n",
    "\n",
    "The mobile carrier Megaline has noticed that many of their subscribers continue to use legacy data plans. The company would like to recommend one of their newer data plans to each legacy plan user, but Megaline also wants to ensure the recommended plan is the most desirable for each customer. The request has been made to train a model that will determine which new Megaline data plan (Smart or Ultra) be recommended to each customer based on their data usage behavior.\n",
    "\n",
    "Since either the Smart or the Ultra plan can be recommended, this is a binary classification task. Therefore, the following models will be trained and tested:\n",
    "\n",
    "- Decision Tree\n",
    "- Random Forest\n",
    "\n",
    "Training, validation, and testing datasets will be sliced from the overall data provided. The models will be trained and validated using the training and validation datasets, and the hyperparameters will be tuned for both models to obtain the highest accuracy. Once the best hyperparameters are determined, the models will be tested using the test dataset, and the model with the highest accuracy will be deemed the best model."
   ]
  },
  {
   "cell_type": "markdown",
   "metadata": {},
   "source": [
    "## Initialization\n",
    "\n",
    "In this section the necessary libraries will be imported, the data will be read into a DataFrame, and a summary of the data will be quickly explored.\n",
    "\n",
    "### Load libraries\n",
    "\n",
    "All the important libraries that may be utilized throughout this report are imported in the cell block below."
   ]
  },
  {
   "cell_type": "code",
   "execution_count": 2,
   "metadata": {},
   "outputs": [],
   "source": [
    "# Import the necessary libraries\n",
    "\n",
    "import pandas as pd\n",
    "from sklearn.tree import DecisionTreeClassifier\n",
    "from sklearn.ensemble import RandomForestClassifier\n",
    "from sklearn.model_selection import train_test_split\n",
    "from sklearn.metrics import accuracy_score"
   ]
  },
  {
   "cell_type": "markdown",
   "metadata": {},
   "source": [
    "### Load data\n",
    "\n",
    "Below, the csv file **_users_behavior.csv_** will be read and stored in the DataFrame `df`."
   ]
  },
  {
   "cell_type": "code",
   "execution_count": 3,
   "metadata": {},
   "outputs": [],
   "source": [
    "# Load the data and store it to df\n",
    "\n",
    "df = pd.read_csv('/datasets/users_behavior.csv')"
   ]
  },
  {
   "cell_type": "markdown",
   "metadata": {},
   "source": [
    "### Explore the data\n",
    "\n",
    "Let's take a look at the data stored in the `df` DataFrame. The first 15 rows will be printed, followed by the DataFrame's general info."
   ]
  },
  {
   "cell_type": "code",
   "execution_count": 3,
   "metadata": {},
   "outputs": [
    {
     "data": {
      "text/html": [
       "<div>\n",
       "<style scoped>\n",
       "    .dataframe tbody tr th:only-of-type {\n",
       "        vertical-align: middle;\n",
       "    }\n",
       "\n",
       "    .dataframe tbody tr th {\n",
       "        vertical-align: top;\n",
       "    }\n",
       "\n",
       "    .dataframe thead th {\n",
       "        text-align: right;\n",
       "    }\n",
       "</style>\n",
       "<table border=\"1\" class=\"dataframe\">\n",
       "  <thead>\n",
       "    <tr style=\"text-align: right;\">\n",
       "      <th></th>\n",
       "      <th>calls</th>\n",
       "      <th>minutes</th>\n",
       "      <th>messages</th>\n",
       "      <th>mb_used</th>\n",
       "      <th>is_ultra</th>\n",
       "    </tr>\n",
       "  </thead>\n",
       "  <tbody>\n",
       "    <tr>\n",
       "      <th>0</th>\n",
       "      <td>40.0</td>\n",
       "      <td>311.90</td>\n",
       "      <td>83.0</td>\n",
       "      <td>19915.42</td>\n",
       "      <td>0</td>\n",
       "    </tr>\n",
       "    <tr>\n",
       "      <th>1</th>\n",
       "      <td>85.0</td>\n",
       "      <td>516.75</td>\n",
       "      <td>56.0</td>\n",
       "      <td>22696.96</td>\n",
       "      <td>0</td>\n",
       "    </tr>\n",
       "    <tr>\n",
       "      <th>2</th>\n",
       "      <td>77.0</td>\n",
       "      <td>467.66</td>\n",
       "      <td>86.0</td>\n",
       "      <td>21060.45</td>\n",
       "      <td>0</td>\n",
       "    </tr>\n",
       "    <tr>\n",
       "      <th>3</th>\n",
       "      <td>106.0</td>\n",
       "      <td>745.53</td>\n",
       "      <td>81.0</td>\n",
       "      <td>8437.39</td>\n",
       "      <td>1</td>\n",
       "    </tr>\n",
       "    <tr>\n",
       "      <th>4</th>\n",
       "      <td>66.0</td>\n",
       "      <td>418.74</td>\n",
       "      <td>1.0</td>\n",
       "      <td>14502.75</td>\n",
       "      <td>0</td>\n",
       "    </tr>\n",
       "    <tr>\n",
       "      <th>5</th>\n",
       "      <td>58.0</td>\n",
       "      <td>344.56</td>\n",
       "      <td>21.0</td>\n",
       "      <td>15823.37</td>\n",
       "      <td>0</td>\n",
       "    </tr>\n",
       "    <tr>\n",
       "      <th>6</th>\n",
       "      <td>57.0</td>\n",
       "      <td>431.64</td>\n",
       "      <td>20.0</td>\n",
       "      <td>3738.90</td>\n",
       "      <td>1</td>\n",
       "    </tr>\n",
       "    <tr>\n",
       "      <th>7</th>\n",
       "      <td>15.0</td>\n",
       "      <td>132.40</td>\n",
       "      <td>6.0</td>\n",
       "      <td>21911.60</td>\n",
       "      <td>0</td>\n",
       "    </tr>\n",
       "    <tr>\n",
       "      <th>8</th>\n",
       "      <td>7.0</td>\n",
       "      <td>43.39</td>\n",
       "      <td>3.0</td>\n",
       "      <td>2538.67</td>\n",
       "      <td>1</td>\n",
       "    </tr>\n",
       "    <tr>\n",
       "      <th>9</th>\n",
       "      <td>90.0</td>\n",
       "      <td>665.41</td>\n",
       "      <td>38.0</td>\n",
       "      <td>17358.61</td>\n",
       "      <td>0</td>\n",
       "    </tr>\n",
       "    <tr>\n",
       "      <th>10</th>\n",
       "      <td>82.0</td>\n",
       "      <td>560.51</td>\n",
       "      <td>20.0</td>\n",
       "      <td>9619.53</td>\n",
       "      <td>1</td>\n",
       "    </tr>\n",
       "    <tr>\n",
       "      <th>11</th>\n",
       "      <td>45.0</td>\n",
       "      <td>344.32</td>\n",
       "      <td>13.0</td>\n",
       "      <td>19898.81</td>\n",
       "      <td>0</td>\n",
       "    </tr>\n",
       "    <tr>\n",
       "      <th>12</th>\n",
       "      <td>51.0</td>\n",
       "      <td>437.13</td>\n",
       "      <td>61.0</td>\n",
       "      <td>21523.58</td>\n",
       "      <td>0</td>\n",
       "    </tr>\n",
       "    <tr>\n",
       "      <th>13</th>\n",
       "      <td>56.0</td>\n",
       "      <td>433.07</td>\n",
       "      <td>16.0</td>\n",
       "      <td>16702.36</td>\n",
       "      <td>0</td>\n",
       "    </tr>\n",
       "    <tr>\n",
       "      <th>14</th>\n",
       "      <td>108.0</td>\n",
       "      <td>587.90</td>\n",
       "      <td>0.0</td>\n",
       "      <td>14406.50</td>\n",
       "      <td>1</td>\n",
       "    </tr>\n",
       "  </tbody>\n",
       "</table>\n",
       "</div>"
      ],
      "text/plain": [
       "    calls  minutes  messages   mb_used  is_ultra\n",
       "0    40.0   311.90      83.0  19915.42         0\n",
       "1    85.0   516.75      56.0  22696.96         0\n",
       "2    77.0   467.66      86.0  21060.45         0\n",
       "3   106.0   745.53      81.0   8437.39         1\n",
       "4    66.0   418.74       1.0  14502.75         0\n",
       "5    58.0   344.56      21.0  15823.37         0\n",
       "6    57.0   431.64      20.0   3738.90         1\n",
       "7    15.0   132.40       6.0  21911.60         0\n",
       "8     7.0    43.39       3.0   2538.67         1\n",
       "9    90.0   665.41      38.0  17358.61         0\n",
       "10   82.0   560.51      20.0   9619.53         1\n",
       "11   45.0   344.32      13.0  19898.81         0\n",
       "12   51.0   437.13      61.0  21523.58         0\n",
       "13   56.0   433.07      16.0  16702.36         0\n",
       "14  108.0   587.90       0.0  14406.50         1"
      ]
     },
     "execution_count": 3,
     "metadata": {},
     "output_type": "execute_result"
    }
   ],
   "source": [
    "# Look at the first 15 rows of the DataFrame\n",
    "df.head(15)"
   ]
  },
  {
   "cell_type": "code",
   "execution_count": 4,
   "metadata": {},
   "outputs": [
    {
     "name": "stdout",
     "output_type": "stream",
     "text": [
      "<class 'pandas.core.frame.DataFrame'>\n",
      "RangeIndex: 3214 entries, 0 to 3213\n",
      "Data columns (total 5 columns):\n",
      " #   Column    Non-Null Count  Dtype  \n",
      "---  ------    --------------  -----  \n",
      " 0   calls     3214 non-null   float64\n",
      " 1   minutes   3214 non-null   float64\n",
      " 2   messages  3214 non-null   float64\n",
      " 3   mb_used   3214 non-null   float64\n",
      " 4   is_ultra  3214 non-null   int64  \n",
      "dtypes: float64(4), int64(1)\n",
      "memory usage: 125.7 KB\n"
     ]
    }
   ],
   "source": [
    "# Look at summary of the df DataFrame\n",
    "df.info()"
   ]
  },
  {
   "cell_type": "markdown",
   "metadata": {},
   "source": [
    "There are no Null values in the DataFrame, and the data types are acceptable as-is. The `'calls'` and `'messages'` columns could contain integer values instead of float values, but leaving them as float values will not hinder the modeling. No work is required to prepare the data."
   ]
  },
  {
   "cell_type": "markdown",
   "metadata": {},
   "source": [
    "<div class=\"alert alert-success\">\n",
    "<b>Reviewer's comment</b>\n",
    "\n",
    "The data was loaded and inspected. \n",
    "    \n",
    "> The 'calls' and 'messages' columns could contain integer values instead of float values, but leaving them as float values will not hinder the modeling.\n",
    "    \n",
    "Yeah, it's true!\n",
    "\n",
    "</div>"
   ]
  },
  {
   "cell_type": "markdown",
   "metadata": {},
   "source": [
    "## Modeling"
   ]
  },
  {
   "cell_type": "markdown",
   "metadata": {},
   "source": [
    "The two learning algorithms/models that will be utilized are as follows:\n",
    "\n",
    "- Decision Tree\n",
    "- Random Forest\n",
    "\n",
    "The trained models with the best quality/accuracy will be selected for final testing. The models will then be passed the test data, and their accuracy will be calculated to determine how they perform and which model is better."
   ]
  },
  {
   "cell_type": "markdown",
   "metadata": {},
   "source": [
    "### Splitting data into datasets\n",
    "\n",
    "The column `'is_ultra'` contains either a 0 or 1 (binary classification) depending on which plan is used. The value is a 0 if the Smart plan is used, and the value is a 1 if the Ultra plan is used. Since we are trying to determine which plan to recommend to customers based on their data usage habits/behavior, the `'is_ultra'` column will be our target column.\n",
    "\n",
    "The other columns, `'calls'`, `'minutes'`, `'messages'`, and `'mb_used'`, all contain data that provides insight into each customer's data usage habits/behavior. Each of these columns has some weighted relationship on whether or not the customer chose to enroll in the Smart or Ultra data plan, so these columns will be our feature columns."
   ]
  },
  {
   "cell_type": "code",
   "execution_count": 5,
   "metadata": {},
   "outputs": [],
   "source": [
    "# The features of the df DataFrame include all columns except for 'is_ultra'\n",
    "features = df.drop('is_ultra', axis=1)\n",
    "\n",
    "# The target of the df DataFrame is the 'is_ultra' column\n",
    "target = df['is_ultra']"
   ]
  },
  {
   "cell_type": "markdown",
   "metadata": {},
   "source": [
    "<div class=\"alert alert-success\">\n",
    "<b>Reviewer's comment</b>\n",
    "\n",
    "Good!\n",
    "\n",
    "</div>"
   ]
  },
  {
   "cell_type": "markdown",
   "metadata": {},
   "source": [
    "The data in the `features` DataFrame and `target` Series will each be split up into a training dataset, a validation dataset, and a test dataset. The data will be split up using a 3:1:1 ratio. For clarity, the training datasets, validation datasets, and test datasets will each contain 60%, 20%, and 20% of the data from `features` and `target`, respectively. "
   ]
  },
  {
   "cell_type": "code",
   "execution_count": 6,
   "metadata": {},
   "outputs": [],
   "source": [
    "# Split the above slices into training, validation, and test datasets...\n",
    "\n",
    "    # First, split the training datasets apart from the validation and test data. This will be done by splitting the data into\n",
    "    # the train datasets and \"other\" datasets. The \"other\" datasets will have a test_size of 0.4, or 40% of the data, leaving \n",
    "    # the training datasets with 60% of the data.\n",
    "\n",
    "features_train, features_other, target_train, target_other  = train_test_split(features, target, test_size=0.4,\\\n",
    "                                                                               random_state=12345)\n",
    "\n",
    "    # Split the \"other\" datasets to create the validation and test datasets. Since the \"other\" dataset account for 40%\n",
    "    # of the original data and the validation and test datasets should each contain 20% of the original data, the\n",
    "    # \"other\" datasets will be split in half. So, the test_size parameter will be set to 0.5 (for 50%).\n",
    "\n",
    "features_valid, features_test, target_valid, target_test = train_test_split(features_other, target_other, test_size=0.5,\\\n",
    "                                                                            random_state=12345)\n"
   ]
  },
  {
   "cell_type": "markdown",
   "metadata": {},
   "source": [
    "<div class=\"alert alert-success\">\n",
    "<b>Reviewer's comment</b>\n",
    "\n",
    "The data split is reasonable!\n",
    "\n",
    "</div>"
   ]
  },
  {
   "cell_type": "markdown",
   "metadata": {},
   "source": [
    "### Decision Tree model"
   ]
  },
  {
   "cell_type": "markdown",
   "metadata": {},
   "source": [
    "Since the values in the target column are either 0 or 1, predicting target values is a binary classification task. A good model to use for a binary classification task is a decision tree. The most important hyperparameter for a decision tree model is its depth. Therefore, the cell block below will create models with varying maximum depths. Each model will be checked for accuracy, and the model with the best accuracy will be displayed."
   ]
  },
  {
   "cell_type": "code",
   "execution_count": 7,
   "metadata": {},
   "outputs": [
    {
     "name": "stdout",
     "output_type": "stream",
     "text": [
      "Best Model: DecisionTreeClassifier(max_depth=3, random_state=12345)\n",
      "Best Accuracy: 78.54%\n",
      "Best Depth: 3\n"
     ]
    }
   ],
   "source": [
    "# Decision Tree Model/Learning Algorithm\n",
    "\n",
    "# Initialize\n",
    "best_model = None\n",
    "best_DT_accuracy = 0\n",
    "best_depth = 0\n",
    "\n",
    "# Create various models with different depth values\n",
    "\n",
    "# for loop for changing depth values (range of 1-41)\n",
    "for depth in range(1,41):\n",
    "    \n",
    "    # Create a model, using the provided depth and the same random_state\n",
    "    DT_model = DecisionTreeClassifier(max_depth=depth, random_state=12345)\n",
    "    \n",
    "    # Train the model using the training dataset\n",
    "    DT_model.fit(features_train, target_train)\n",
    "    \n",
    "    # Predict the target values of the validation features using the model\n",
    "    DT_predictions_valid = DT_model.predict(features_valid) # get model predictions on validation set\n",
    "    \n",
    "    # Calculate the accuracy, if allowed\n",
    "    try:\n",
    "        accuracy = accuracy_score(target_valid, DT_predictions_valid)\n",
    "    except:\n",
    "        break\n",
    "    \n",
    "    # Determe best fit\n",
    "    if accuracy > best_DT_accuracy:\n",
    "        best_DT_model = DT_model\n",
    "        best_DT_depth = depth\n",
    "        best_DT_accuracy = accuracy\n",
    "\n",
    "print('Best Model:', best_DT_model)\n",
    "print(f'Best Accuracy: {round(best_DT_accuracy*100,2)}%')\n",
    "print('Best Depth:', best_DT_depth)\n"
   ]
  },
  {
   "cell_type": "markdown",
   "metadata": {},
   "source": [
    "The decision tree model with the best accuracy has a maximum depth of **3**, and an accuracy of approximately **78.54%**. This model will be stored as `best_DT_model`, and be utilized later on during testing."
   ]
  },
  {
   "cell_type": "markdown",
   "metadata": {},
   "source": [
    "### Random Forest model\n",
    "\n",
    "Now let's use a random forest model to predict target values. The hyperparameters that are important to a random forest model are its depth and the number of estimators (n_estimators) it has. The number of estimators equates to the number of \"trees in the forest\", or in layman's terms, the number of decision trees in the model. To determine the hyperparamters that result in the best trained random forest model, models will be trained and tested with various combinations of values for both the depth and number of estimators. This will be implemented by using two for loops to iterate through a range of values for each hyperparameter. The resulting models will all be checked for accuracy, and the random forest model with the highest accuracy will be displayed."
   ]
  },
  {
   "cell_type": "code",
   "execution_count": 8,
   "metadata": {},
   "outputs": [
    {
     "name": "stdout",
     "output_type": "stream",
     "text": [
      "Best Model: RandomForestClassifier(max_depth=12, n_estimators=17, random_state=12345)\n",
      "Best Accuracy: 80.56%\n",
      "Best Depth: 12\n",
      "Best n_estimators: 17\n"
     ]
    }
   ],
   "source": [
    "# Random Forest model\n",
    "\n",
    "# Initialize\n",
    "best_model = None\n",
    "best_result = 10000\n",
    "best_est = 0\n",
    "best_depth = 0\n",
    "best_score = 0\n",
    "best_RF_accuracy = 0\n",
    "\n",
    "# Create various models with different depth and estimator values\n",
    "\n",
    "# for loop for the number of estimators\n",
    "for est in range(1,21):\n",
    "    \n",
    "    # for loop for the depth value\n",
    "    for depth in range (1, 41):\n",
    "        \n",
    "        # Create a model, using the provided depth, number of estimators, and the same random_state\n",
    "        RF_model = RandomForestClassifier(max_depth=depth, random_state=12345, n_estimators=est)\n",
    "        \n",
    "        # Train the model using the training dataset\n",
    "        RF_model.fit(features_train, target_train)\n",
    "\n",
    "        # Predict the target values of the validation features using the model\n",
    "        RF_predictions_valid = RF_model.predict(features_valid) # get model predictions on validation set\n",
    "       \n",
    "        # Calculate the accuracy, if allowed\n",
    "        try:\n",
    "            accuracy = accuracy_score(target_valid, RF_predictions_valid)\n",
    "        except:\n",
    "            break\n",
    "\n",
    "     # Determe best fit\n",
    "        if accuracy > best_RF_accuracy:\n",
    "            best_RF_model = RF_model\n",
    "            best_RF_accuracy = accuracy\n",
    "            best_RF_depth = depth\n",
    "            best_est = est\n",
    "\n",
    "print('Best Model:', best_RF_model)\n",
    "print(f'Best Accuracy: {round(best_RF_accuracy*100,2)}%')\n",
    "print('Best Depth:', best_RF_depth)\n",
    "print('Best n_estimators:', best_est)\n"
   ]
  },
  {
   "cell_type": "markdown",
   "metadata": {},
   "source": [
    "The random forest model with the best accuracy has a maximum depth of **12**, an n_estimators value of **17**, and an accuracy of approximately **80.56%**. This model will be stored as `best_RF_model`, and be utilized later on during testing."
   ]
  },
  {
   "cell_type": "markdown",
   "metadata": {},
   "source": [
    "<div class=\"alert alert-success\">\n",
    "<b>Reviewer's comment</b>\n",
    "\n",
    "Great, you tried a couple of different models and tuned their hyperparameters using the validation set!\n",
    "\n",
    "</div>"
   ]
  },
  {
   "cell_type": "markdown",
   "metadata": {},
   "source": [
    "## Final Model\n",
    "\n",
    "The best hyperparameters for both the decision tree and random forest models have been determined. The best models of each kind have been stored into `best_DT_model` and `best_RF_model`. Now, it's time to test these optimal models by predicitng the target values of the test datasets, and then calculating each models' accuracy.\n",
    "\n",
    "### Best decision tree model"
   ]
  },
  {
   "cell_type": "code",
   "execution_count": 9,
   "metadata": {},
   "outputs": [
    {
     "name": "stdout",
     "output_type": "stream",
     "text": [
      "Accuracy: 77.92%\n"
     ]
    }
   ],
   "source": [
    "# Test the final decision tree model using the test dataset\n",
    "\n",
    "# Predict the target values\n",
    "DT_test_predictions = best_DT_model.predict(features_test)\n",
    "\n",
    "# Calculate the accuracy\n",
    "DT_test_accuracy = accuracy_score(target_test, DT_test_predictions)\n",
    "\n",
    "# Print the results\n",
    "print(f'Accuracy: {round(DT_test_accuracy*100,2)}%')"
   ]
  },
  {
   "cell_type": "markdown",
   "metadata": {},
   "source": [
    "The best decision tree model has an accuracy of **77.92%** when predicting target values for the test dataset. This is greater than the **75%** threshold for model accuracy."
   ]
  },
  {
   "cell_type": "markdown",
   "metadata": {},
   "source": [
    "### Best random forest model"
   ]
  },
  {
   "cell_type": "code",
   "execution_count": 10,
   "metadata": {},
   "outputs": [
    {
     "name": "stdout",
     "output_type": "stream",
     "text": [
      "Accuracy: 79.94%\n"
     ]
    }
   ],
   "source": [
    "# Test the final random forest model using the test dataset\n",
    "\n",
    "# Predict the target values\n",
    "RF_test_predictions = best_RF_model.predict(features_test)\n",
    "\n",
    "# Calculate the accuracy\n",
    "RF_test_accuracy = accuracy_score(target_test, RF_test_predictions)\n",
    "\n",
    "# Print the results\n",
    "print(f'Accuracy: {round(RF_test_accuracy*100,2)}%')"
   ]
  },
  {
   "cell_type": "markdown",
   "metadata": {},
   "source": [
    "The best random forest model has an accuracy of **79.94%** when predicting target values for the test dataset. This is greater than the **75%** threshold for model accuracy. It is also greater than the **77.92%** accuracy of the decision tree model."
   ]
  },
  {
   "cell_type": "markdown",
   "metadata": {},
   "source": [
    "<div class=\"alert alert-success\">\n",
    "<b>Reviewer's comment</b>\n",
    "\n",
    "The final models were evaluated on the test set\n",
    "\n",
    "</div>"
   ]
  },
  {
   "cell_type": "markdown",
   "metadata": {},
   "source": [
    "## Sanity (Common Sense) Check"
   ]
  },
  {
   "cell_type": "markdown",
   "metadata": {},
   "source": [
    "Each user can either be recommended the Smart or Ultra plan, which correlates to either a **0** or **1** in the target datasets or predicted values. Since determining which plan to recommend is a binary classification task, there is **50%** probability of recommending the correct plan just by chance (without even consulting user data). This means that if we were to recommend either the Smart plan or Ultra plan at random, then we would have a **50%** accuracy in recommending the correct plan to each customer. \n",
    "\n",
    "The final decision tree model and the final random forest model had an accuracy of **77.92%** and **79.94%**, respectively. These numbers are significantly larger than the **50%** accuracy that would be attained by recommending plans at random. Thus, it makes sense to utilize either of the final trained models obtained to determine which plan to recommond to each customer."
   ]
  },
  {
   "cell_type": "markdown",
   "metadata": {},
   "source": [
    "<div class=\"alert alert-warning\">\n",
    "<b>Reviewer's comment</b>\n",
    "\n",
    "While it's a decent baseline, we can think of a better one. A constant model always predicting the majority class (in this case, 0) will have accuracy equal to the share of the majority class (about 70% in this case)\n",
    "\n",
    "</div>"
   ]
  },
  {
   "cell_type": "markdown",
   "metadata": {},
   "source": [
    "## Conclusion\n",
    "\n",
    "The mobile carrier Megaline requested a trained model that would recommend one of their newer plans to customers continuing to use legacy plans. It was determined that this was a binary classification task since only the Ultra or Smart plan could be recommended. Therefore, the two models that were trained were a decision tree model and a random forest model. \n",
    "\n",
    "The features and target data were divided into 3 datasets as follows:\n",
    "\n",
    "- Training dataset (60%)\n",
    "- Validation dataset (20%)\n",
    "- Testing dataset (20%)\n",
    "\n",
    "Multiple models were created with various combinations of hyperparameters. They were trained with the same data, and then their accuracy was comapred. The decision tree model and random forest model with the highest accuracy were then tested using the testing data. The accuracy of the best decision tree model was calculated to be **77.92%**, and the accuracy of the best random forest model was calculated to be **79.94%**. Both models surpass the **75%** accuracy threshold. The best random forest model is slightly more accurate than the best decision tree model, so that should be the model delivered to Megaline."
   ]
  },
  {
   "cell_type": "markdown",
   "metadata": {},
   "source": [
    "<div class=\"alert alert-success\">\n",
    "<b>Reviewer's comment</b>\n",
    "\n",
    "Nice summary!\n",
    "\n",
    "</div>"
   ]
  }
 ],
 "metadata": {
  "ExecuteTimeLog": [
   {
    "duration": 1140,
    "start_time": "2022-04-24T02:50:57.791Z"
   },
   {
    "duration": 108,
    "start_time": "2022-04-24T02:51:00.155Z"
   },
   {
    "duration": 65,
    "start_time": "2022-04-24T02:51:20.357Z"
   },
   {
    "duration": 14,
    "start_time": "2022-04-24T02:51:26.352Z"
   },
   {
    "duration": 18,
    "start_time": "2022-04-24T02:51:33.256Z"
   },
   {
    "duration": 13,
    "start_time": "2022-04-24T02:51:36.016Z"
   },
   {
    "duration": 12,
    "start_time": "2022-04-24T02:51:40.071Z"
   },
   {
    "duration": 109,
    "start_time": "2022-04-24T02:57:38.574Z"
   },
   {
    "duration": 108,
    "start_time": "2022-04-24T02:57:43.772Z"
   },
   {
    "duration": 10,
    "start_time": "2022-04-24T02:57:51.695Z"
   },
   {
    "duration": 4,
    "start_time": "2022-04-24T02:58:39.776Z"
   },
   {
    "duration": 6,
    "start_time": "2022-04-24T02:58:41.760Z"
   },
   {
    "duration": 67,
    "start_time": "2022-04-24T03:03:53.185Z"
   },
   {
    "duration": 264,
    "start_time": "2022-04-24T03:04:04.763Z"
   },
   {
    "duration": 371,
    "start_time": "2022-04-24T03:04:12.730Z"
   },
   {
    "duration": 1045,
    "start_time": "2022-04-24T03:04:18.302Z"
   },
   {
    "duration": 152,
    "start_time": "2022-04-24T03:04:28.046Z"
   },
   {
    "duration": 2145,
    "start_time": "2022-04-24T03:04:33.739Z"
   },
   {
    "duration": 19,
    "start_time": "2022-04-24T03:04:41.653Z"
   },
   {
    "duration": 58,
    "start_time": "2022-04-24T03:04:48.596Z"
   },
   {
    "duration": 102,
    "start_time": "2022-04-24T03:04:51.926Z"
   },
   {
    "duration": 163,
    "start_time": "2022-04-24T03:04:55.897Z"
   },
   {
    "duration": 265,
    "start_time": "2022-04-24T03:04:59.270Z"
   },
   {
    "duration": 262,
    "start_time": "2022-04-24T03:05:07.348Z"
   },
   {
    "duration": 246,
    "start_time": "2022-04-24T03:05:10.932Z"
   },
   {
    "duration": 8,
    "start_time": "2022-04-24T03:08:47.831Z"
   },
   {
    "duration": 253,
    "start_time": "2022-04-24T03:09:05.635Z"
   },
   {
    "duration": 240,
    "start_time": "2022-04-24T03:09:26.953Z"
   },
   {
    "duration": 110,
    "start_time": "2022-04-24T03:10:41.332Z"
   },
   {
    "duration": 4632,
    "start_time": "2022-04-24T03:10:51.513Z"
   },
   {
    "duration": 46586,
    "start_time": "2022-04-24T03:11:56.523Z"
   },
   {
    "duration": 4721,
    "start_time": "2022-04-24T03:12:46.703Z"
   },
   {
    "duration": 280,
    "start_time": "2022-04-24T03:14:29.652Z"
   },
   {
    "duration": 9,
    "start_time": "2022-04-24T03:14:32.020Z"
   },
   {
    "duration": 4649,
    "start_time": "2022-04-24T03:14:33.522Z"
   },
   {
    "duration": 3,
    "start_time": "2022-04-24T03:17:34.222Z"
   },
   {
    "duration": 1099,
    "start_time": "2022-04-24T03:17:46.539Z"
   },
   {
    "duration": 19,
    "start_time": "2022-04-24T03:17:49.048Z"
   },
   {
    "duration": 21,
    "start_time": "2022-04-24T03:17:49.799Z"
   },
   {
    "duration": 10,
    "start_time": "2022-04-24T03:17:50.324Z"
   },
   {
    "duration": 4,
    "start_time": "2022-04-24T03:17:53.157Z"
   },
   {
    "duration": 8,
    "start_time": "2022-04-24T03:17:53.814Z"
   },
   {
    "duration": 99,
    "start_time": "2022-04-24T03:17:56.327Z"
   },
   {
    "duration": 236,
    "start_time": "2022-04-24T03:18:08.155Z"
   },
   {
    "duration": 240,
    "start_time": "2022-04-24T03:18:20.528Z"
   },
   {
    "duration": 3984,
    "start_time": "2022-04-24T03:18:35.551Z"
   },
   {
    "duration": 10,
    "start_time": "2022-04-24T03:18:43.925Z"
   },
   {
    "duration": 6,
    "start_time": "2022-04-24T03:18:50.253Z"
   },
   {
    "duration": 14,
    "start_time": "2022-04-24T03:20:33.832Z"
   },
   {
    "duration": 3,
    "start_time": "2022-04-24T03:20:41.825Z"
   },
   {
    "duration": 16,
    "start_time": "2022-04-24T03:20:44.033Z"
   },
   {
    "duration": 9,
    "start_time": "2022-04-24T03:21:45.082Z"
   },
   {
    "duration": 5,
    "start_time": "2022-04-24T03:22:08.152Z"
   },
   {
    "duration": 222,
    "start_time": "2022-04-24T03:23:23.373Z"
   },
   {
    "duration": 7,
    "start_time": "2022-04-24T03:24:21.650Z"
   },
   {
    "duration": 3986,
    "start_time": "2022-04-24T03:24:47.761Z"
   },
   {
    "duration": 23,
    "start_time": "2022-04-24T03:25:51.173Z"
   },
   {
    "duration": 8,
    "start_time": "2022-04-24T03:26:09.994Z"
   },
   {
    "duration": 14,
    "start_time": "2022-04-24T03:26:20.980Z"
   },
   {
    "duration": 8,
    "start_time": "2022-04-24T03:26:27.658Z"
   },
   {
    "duration": 13,
    "start_time": "2022-04-24T03:28:58.212Z"
   },
   {
    "duration": 22,
    "start_time": "2022-04-24T03:29:11.989Z"
   },
   {
    "duration": 8,
    "start_time": "2022-04-24T03:29:36.560Z"
   },
   {
    "duration": 3,
    "start_time": "2022-04-24T03:31:27.983Z"
   },
   {
    "duration": 13,
    "start_time": "2022-04-24T03:31:45.312Z"
   },
   {
    "duration": 5,
    "start_time": "2022-04-24T03:32:37.127Z"
   },
   {
    "duration": 11,
    "start_time": "2022-04-24T03:32:46.020Z"
   },
   {
    "duration": 10,
    "start_time": "2022-04-24T03:32:52.057Z"
   },
   {
    "duration": 66,
    "start_time": "2022-04-24T15:35:13.145Z"
   },
   {
    "duration": 5,
    "start_time": "2022-04-24T15:35:13.922Z"
   },
   {
    "duration": 1174,
    "start_time": "2022-04-24T15:35:22.444Z"
   },
   {
    "duration": 18,
    "start_time": "2022-04-24T15:35:23.620Z"
   },
   {
    "duration": 17,
    "start_time": "2022-04-24T15:35:23.639Z"
   },
   {
    "duration": 10,
    "start_time": "2022-04-24T15:35:23.658Z"
   },
   {
    "duration": 4,
    "start_time": "2022-04-24T15:38:09.473Z"
   },
   {
    "duration": 188,
    "start_time": "2022-04-24T15:49:29.211Z"
   },
   {
    "duration": 8,
    "start_time": "2022-04-24T15:49:36.683Z"
   },
   {
    "duration": 8,
    "start_time": "2022-04-24T15:51:10.330Z"
   },
   {
    "duration": 3,
    "start_time": "2022-04-24T15:52:18.177Z"
   },
   {
    "duration": 9,
    "start_time": "2022-04-24T15:54:08.477Z"
   },
   {
    "duration": 9,
    "start_time": "2022-04-24T16:01:54.941Z"
   },
   {
    "duration": 68,
    "start_time": "2022-04-24T16:10:47.196Z"
   },
   {
    "duration": 10,
    "start_time": "2022-04-24T16:11:17.122Z"
   },
   {
    "duration": 308,
    "start_time": "2022-04-24T22:01:15.182Z"
   },
   {
    "duration": 3718,
    "start_time": "2022-04-24T22:02:07.434Z"
   },
   {
    "duration": 7,
    "start_time": "2022-04-24T22:02:12.248Z"
   },
   {
    "duration": 7,
    "start_time": "2022-04-24T22:02:25.361Z"
   },
   {
    "duration": 7,
    "start_time": "2022-04-24T22:03:16.438Z"
   },
   {
    "duration": 365,
    "start_time": "2022-04-24T22:04:44.056Z"
   },
   {
    "duration": 7,
    "start_time": "2022-04-24T22:04:50.822Z"
   },
   {
    "duration": 17,
    "start_time": "2022-04-24T22:13:36.080Z"
   },
   {
    "duration": 9,
    "start_time": "2022-04-24T22:13:46.471Z"
   },
   {
    "duration": 12,
    "start_time": "2022-04-24T22:20:18.961Z"
   },
   {
    "duration": 625,
    "start_time": "2022-04-24T22:20:31.612Z"
   },
   {
    "duration": 395,
    "start_time": "2022-04-24T22:21:13.540Z"
   },
   {
    "duration": 374,
    "start_time": "2022-04-24T22:21:18.651Z"
   },
   {
    "duration": 5,
    "start_time": "2022-04-24T22:23:20.610Z"
   },
   {
    "duration": 7,
    "start_time": "2022-04-24T22:23:27.703Z"
   },
   {
    "duration": 3907,
    "start_time": "2022-04-24T22:23:41.161Z"
   },
   {
    "duration": 9,
    "start_time": "2022-04-24T22:23:46.123Z"
   },
   {
    "duration": 26,
    "start_time": "2022-04-24T22:26:22.199Z"
   },
   {
    "duration": 3780,
    "start_time": "2022-04-24T22:26:55.955Z"
   },
   {
    "duration": 7,
    "start_time": "2022-04-24T22:27:02.080Z"
   },
   {
    "duration": 7,
    "start_time": "2022-04-24T22:27:09.609Z"
   },
   {
    "duration": 18,
    "start_time": "2022-04-24T22:28:35.111Z"
   },
   {
    "duration": 3908,
    "start_time": "2022-04-24T22:31:06.517Z"
   },
   {
    "duration": 7,
    "start_time": "2022-04-24T22:31:13.074Z"
   },
   {
    "duration": 4,
    "start_time": "2022-04-24T22:32:42.177Z"
   },
   {
    "duration": 4,
    "start_time": "2022-04-24T22:32:46.256Z"
   },
   {
    "duration": 4,
    "start_time": "2022-04-24T22:32:50.123Z"
   },
   {
    "duration": 15,
    "start_time": "2022-04-24T22:35:07.729Z"
   },
   {
    "duration": 3810,
    "start_time": "2022-04-24T22:35:17.371Z"
   },
   {
    "duration": 14,
    "start_time": "2022-04-24T22:35:31.729Z"
   },
   {
    "duration": 360,
    "start_time": "2022-04-24T22:39:01.049Z"
   },
   {
    "duration": 16,
    "start_time": "2022-04-24T22:39:09.053Z"
   },
   {
    "duration": 14,
    "start_time": "2022-04-24T22:39:24.106Z"
   },
   {
    "duration": 7,
    "start_time": "2022-04-24T22:40:41.195Z"
   },
   {
    "duration": 1085,
    "start_time": "2022-04-24T22:41:01.945Z"
   },
   {
    "duration": 18,
    "start_time": "2022-04-24T22:41:03.032Z"
   },
   {
    "duration": 17,
    "start_time": "2022-04-24T22:41:03.051Z"
   },
   {
    "duration": 9,
    "start_time": "2022-04-24T22:41:03.070Z"
   },
   {
    "duration": 5,
    "start_time": "2022-04-24T22:41:03.081Z"
   },
   {
    "duration": 8,
    "start_time": "2022-04-24T22:41:03.088Z"
   },
   {
    "duration": 22,
    "start_time": "2022-04-24T22:41:03.097Z"
   },
   {
    "duration": 3859,
    "start_time": "2022-04-24T22:41:03.121Z"
   },
   {
    "duration": 21,
    "start_time": "2022-04-24T22:41:06.981Z"
   },
   {
    "duration": 7,
    "start_time": "2022-04-24T22:41:07.004Z"
   },
   {
    "duration": 8,
    "start_time": "2022-04-24T22:41:07.012Z"
   },
   {
    "duration": 105,
    "start_time": "2022-04-24T22:41:07.021Z"
   },
   {
    "duration": 0,
    "start_time": "2022-04-24T22:41:07.127Z"
   },
   {
    "duration": 0,
    "start_time": "2022-04-24T22:41:07.128Z"
   },
   {
    "duration": 0,
    "start_time": "2022-04-24T22:41:07.129Z"
   },
   {
    "duration": 0,
    "start_time": "2022-04-24T22:41:07.130Z"
   },
   {
    "duration": 7,
    "start_time": "2022-04-24T22:41:43.348Z"
   },
   {
    "duration": 10,
    "start_time": "2022-04-24T22:42:12.098Z"
   },
   {
    "duration": 3799,
    "start_time": "2022-04-24T22:42:12.190Z"
   },
   {
    "duration": 1100,
    "start_time": "2022-04-24T22:42:52.136Z"
   },
   {
    "duration": 18,
    "start_time": "2022-04-24T22:42:53.238Z"
   },
   {
    "duration": 20,
    "start_time": "2022-04-24T22:42:53.258Z"
   },
   {
    "duration": 10,
    "start_time": "2022-04-24T22:42:53.280Z"
   },
   {
    "duration": 4,
    "start_time": "2022-04-24T22:43:01.928Z"
   },
   {
    "duration": 7,
    "start_time": "2022-04-24T22:43:05.101Z"
   },
   {
    "duration": 11,
    "start_time": "2022-04-24T22:43:14.917Z"
   },
   {
    "duration": 6,
    "start_time": "2022-04-24T22:43:20.866Z"
   },
   {
    "duration": 10,
    "start_time": "2022-04-24T22:43:22.613Z"
   },
   {
    "duration": 8,
    "start_time": "2022-04-24T22:43:27.954Z"
   },
   {
    "duration": 15,
    "start_time": "2022-04-24T22:43:30.063Z"
   },
   {
    "duration": 7,
    "start_time": "2022-04-24T22:43:34.701Z"
   },
   {
    "duration": 10,
    "start_time": "2022-04-24T22:43:36.549Z"
   },
   {
    "duration": 5,
    "start_time": "2022-04-24T22:44:15.225Z"
   },
   {
    "duration": 104,
    "start_time": "2022-04-24T22:44:47.758Z"
   },
   {
    "duration": 17,
    "start_time": "2022-04-24T22:45:05.256Z"
   },
   {
    "duration": 8,
    "start_time": "2022-04-24T22:45:46.875Z"
   },
   {
    "duration": 9,
    "start_time": "2022-04-24T22:46:07.201Z"
   },
   {
    "duration": 15,
    "start_time": "2022-04-24T22:46:22.884Z"
   },
   {
    "duration": 382,
    "start_time": "2022-04-24T22:47:14.333Z"
   },
   {
    "duration": 7,
    "start_time": "2022-04-24T22:47:18.728Z"
   },
   {
    "duration": 298,
    "start_time": "2022-04-24T22:49:34.437Z"
   },
   {
    "duration": 8,
    "start_time": "2022-04-24T22:49:36.696Z"
   },
   {
    "duration": 211,
    "start_time": "2022-04-24T22:49:44.803Z"
   },
   {
    "duration": 8,
    "start_time": "2022-04-24T22:49:46.642Z"
   },
   {
    "duration": 141,
    "start_time": "2022-04-24T22:49:51.451Z"
   },
   {
    "duration": 9,
    "start_time": "2022-04-24T22:49:53.110Z"
   },
   {
    "duration": 137,
    "start_time": "2022-04-24T22:49:58.811Z"
   },
   {
    "duration": 9,
    "start_time": "2022-04-24T22:50:01.214Z"
   },
   {
    "duration": 150,
    "start_time": "2022-04-24T22:50:05.998Z"
   },
   {
    "duration": 8,
    "start_time": "2022-04-24T22:50:06.832Z"
   },
   {
    "duration": 151,
    "start_time": "2022-04-24T22:50:13.258Z"
   },
   {
    "duration": 8,
    "start_time": "2022-04-24T22:50:15.312Z"
   },
   {
    "duration": 163,
    "start_time": "2022-04-24T22:50:20.478Z"
   },
   {
    "duration": 9,
    "start_time": "2022-04-24T22:50:22.776Z"
   },
   {
    "duration": 9,
    "start_time": "2022-04-24T22:50:39.191Z"
   },
   {
    "duration": 7,
    "start_time": "2022-04-24T22:50:55.954Z"
   },
   {
    "duration": 6,
    "start_time": "2022-04-24T22:51:02.554Z"
   },
   {
    "duration": 172,
    "start_time": "2022-04-24T22:51:34.734Z"
   },
   {
    "duration": 165,
    "start_time": "2022-04-24T22:51:45.892Z"
   },
   {
    "duration": 167,
    "start_time": "2022-04-24T22:51:51.471Z"
   },
   {
    "duration": 157,
    "start_time": "2022-04-24T22:51:56.453Z"
   },
   {
    "duration": 165,
    "start_time": "2022-04-24T22:52:02.770Z"
   },
   {
    "duration": 204,
    "start_time": "2022-04-24T22:52:12.084Z"
   },
   {
    "duration": 158,
    "start_time": "2022-04-24T22:52:19.759Z"
   },
   {
    "duration": 7,
    "start_time": "2022-04-24T22:52:46.019Z"
   },
   {
    "duration": 370,
    "start_time": "2022-04-24T22:53:05.910Z"
   },
   {
    "duration": 9,
    "start_time": "2022-04-24T22:53:33.464Z"
   },
   {
    "duration": 167,
    "start_time": "2022-04-24T22:53:50.140Z"
   },
   {
    "duration": 14033,
    "start_time": "2022-04-24T22:54:18.405Z"
   },
   {
    "duration": 16,
    "start_time": "2022-04-24T22:54:49.400Z"
   },
   {
    "duration": 11,
    "start_time": "2022-04-24T22:55:14.768Z"
   },
   {
    "duration": 5,
    "start_time": "2022-04-24T22:55:18.953Z"
   },
   {
    "duration": 934,
    "start_time": "2022-04-24T22:56:24.940Z"
   },
   {
    "duration": 14,
    "start_time": "2022-04-24T22:56:30.375Z"
   },
   {
    "duration": 2484,
    "start_time": "2022-04-24T22:56:41.017Z"
   },
   {
    "duration": 21,
    "start_time": "2022-04-24T22:56:46.063Z"
   },
   {
    "duration": 9316,
    "start_time": "2022-04-24T22:56:53.645Z"
   },
   {
    "duration": 30,
    "start_time": "2022-04-24T22:57:05.294Z"
   },
   {
    "duration": 10681,
    "start_time": "2022-04-24T22:57:20.177Z"
   },
   {
    "duration": 40,
    "start_time": "2022-04-24T22:57:42.815Z"
   },
   {
    "duration": 15,
    "start_time": "2022-04-24T22:58:19.192Z"
   },
   {
    "duration": 6,
    "start_time": "2022-04-24T22:58:20.920Z"
   },
   {
    "duration": 19,
    "start_time": "2022-04-24T22:58:30.641Z"
   },
   {
    "duration": 7,
    "start_time": "2022-04-24T22:58:31.600Z"
   },
   {
    "duration": 23,
    "start_time": "2022-04-24T22:58:34.776Z"
   },
   {
    "duration": 6,
    "start_time": "2022-04-24T22:58:35.402Z"
   },
   {
    "duration": 29,
    "start_time": "2022-04-24T22:58:39.988Z"
   },
   {
    "duration": 6,
    "start_time": "2022-04-24T22:58:42.203Z"
   },
   {
    "duration": 274,
    "start_time": "2022-04-24T22:59:09.954Z"
   },
   {
    "duration": 8,
    "start_time": "2022-04-24T22:59:11.746Z"
   },
   {
    "duration": 9,
    "start_time": "2022-04-24T22:59:54.353Z"
   },
   {
    "duration": 20,
    "start_time": "2022-04-24T22:59:59.784Z"
   },
   {
    "duration": 19,
    "start_time": "2022-04-24T23:00:19.903Z"
   },
   {
    "duration": 290,
    "start_time": "2022-04-24T23:00:33.681Z"
   },
   {
    "duration": 7,
    "start_time": "2022-04-24T23:00:50.325Z"
   },
   {
    "duration": 286,
    "start_time": "2022-04-24T23:01:38.231Z"
   },
   {
    "duration": 8,
    "start_time": "2022-04-24T23:01:40.013Z"
   },
   {
    "duration": 13,
    "start_time": "2022-04-24T23:02:22.214Z"
   },
   {
    "duration": 14,
    "start_time": "2022-04-24T23:03:03.516Z"
   },
   {
    "duration": 9,
    "start_time": "2022-04-24T23:03:04.843Z"
   },
   {
    "duration": 7,
    "start_time": "2022-04-24T23:03:20.285Z"
   },
   {
    "duration": 6,
    "start_time": "2022-04-24T23:03:25.546Z"
   },
   {
    "duration": 20,
    "start_time": "2022-04-24T23:03:35.196Z"
   },
   {
    "duration": 7,
    "start_time": "2022-04-24T23:03:35.571Z"
   },
   {
    "duration": 13,
    "start_time": "2022-04-24T23:03:36.809Z"
   },
   {
    "duration": 14,
    "start_time": "2022-04-24T23:03:39.736Z"
   },
   {
    "duration": 5,
    "start_time": "2022-04-24T23:03:40.120Z"
   },
   {
    "duration": 6,
    "start_time": "2022-04-24T23:03:41.161Z"
   },
   {
    "duration": 15,
    "start_time": "2022-04-24T23:06:34.075Z"
   },
   {
    "duration": 28,
    "start_time": "2022-04-24T23:07:05.921Z"
   },
   {
    "duration": 30,
    "start_time": "2022-04-24T23:07:24.685Z"
   },
   {
    "duration": 7,
    "start_time": "2022-04-24T23:08:06.012Z"
   },
   {
    "duration": 7,
    "start_time": "2022-04-24T23:08:07.617Z"
   },
   {
    "duration": 27,
    "start_time": "2022-04-24T23:08:16.646Z"
   },
   {
    "duration": 20,
    "start_time": "2022-04-24T23:08:47.115Z"
   },
   {
    "duration": 9,
    "start_time": "2022-04-24T23:10:27.169Z"
   },
   {
    "duration": 9,
    "start_time": "2022-04-24T23:10:51.488Z"
   },
   {
    "duration": 16,
    "start_time": "2022-04-24T23:11:22.350Z"
   },
   {
    "duration": 15,
    "start_time": "2022-04-24T23:11:27.651Z"
   },
   {
    "duration": 18,
    "start_time": "2022-04-24T23:18:07.981Z"
   },
   {
    "duration": 215,
    "start_time": "2022-04-24T23:19:21.105Z"
   },
   {
    "duration": 234,
    "start_time": "2022-04-24T23:19:28.211Z"
   },
   {
    "duration": 5,
    "start_time": "2022-04-24T23:19:31.441Z"
   },
   {
    "duration": 160,
    "start_time": "2022-04-24T23:20:20.482Z"
   },
   {
    "duration": 160,
    "start_time": "2022-04-24T23:20:31.823Z"
   },
   {
    "duration": 6,
    "start_time": "2022-04-24T23:20:35.837Z"
   },
   {
    "duration": 196,
    "start_time": "2022-04-24T23:20:43.777Z"
   },
   {
    "duration": 7,
    "start_time": "2022-04-24T23:20:45.219Z"
   },
   {
    "duration": 275,
    "start_time": "2022-04-24T23:20:50.587Z"
   },
   {
    "duration": 5,
    "start_time": "2022-04-24T23:20:51.724Z"
   },
   {
    "duration": 8,
    "start_time": "2022-04-24T23:21:48.446Z"
   },
   {
    "duration": 273,
    "start_time": "2022-04-24T23:21:58.718Z"
   },
   {
    "duration": 68,
    "start_time": "2022-04-24T23:24:20.403Z"
   },
   {
    "duration": 67,
    "start_time": "2022-04-24T23:24:43.543Z"
   },
   {
    "duration": 257,
    "start_time": "2022-04-24T23:24:59.911Z"
   },
   {
    "duration": 273,
    "start_time": "2022-04-24T23:25:59.109Z"
   },
   {
    "duration": 276,
    "start_time": "2022-04-24T23:26:37.258Z"
   },
   {
    "duration": 11,
    "start_time": "2022-04-24T23:28:41.238Z"
   },
   {
    "duration": 8,
    "start_time": "2022-04-24T23:29:17.045Z"
   },
   {
    "duration": 8,
    "start_time": "2022-04-24T23:29:35.102Z"
   },
   {
    "duration": 6,
    "start_time": "2022-04-24T23:29:39.020Z"
   },
   {
    "duration": 6,
    "start_time": "2022-04-24T23:30:03.768Z"
   },
   {
    "duration": 194,
    "start_time": "2022-04-24T23:31:34.525Z"
   },
   {
    "duration": 3,
    "start_time": "2022-04-24T23:31:38.111Z"
   },
   {
    "duration": 20,
    "start_time": "2022-04-24T23:32:29.697Z"
   },
   {
    "duration": 22,
    "start_time": "2022-04-24T23:33:20.689Z"
   },
   {
    "duration": 6,
    "start_time": "2022-04-24T23:34:34.927Z"
   },
   {
    "duration": 4276,
    "start_time": "2022-04-24T23:36:09.903Z"
   },
   {
    "duration": 276,
    "start_time": "2022-04-24T23:36:52.196Z"
   },
   {
    "duration": 281,
    "start_time": "2022-04-24T23:37:02.375Z"
   },
   {
    "duration": 7239,
    "start_time": "2022-04-24T23:37:19.525Z"
   },
   {
    "duration": 6,
    "start_time": "2022-04-24T23:37:44.337Z"
   },
   {
    "duration": 5,
    "start_time": "2022-04-24T23:37:48.686Z"
   },
   {
    "duration": 9,
    "start_time": "2022-04-24T23:42:54.886Z"
   },
   {
    "duration": 3,
    "start_time": "2022-04-24T23:43:48.602Z"
   },
   {
    "duration": 310,
    "start_time": "2022-04-24T23:43:53.717Z"
   },
   {
    "duration": 6,
    "start_time": "2022-04-24T23:44:19.959Z"
   },
   {
    "duration": 3,
    "start_time": "2022-04-24T23:44:43.753Z"
   },
   {
    "duration": 8304,
    "start_time": "2022-04-24T23:44:56.646Z"
   },
   {
    "duration": 7,
    "start_time": "2022-04-24T23:45:21.977Z"
   },
   {
    "duration": 3,
    "start_time": "2022-04-24T23:45:44.235Z"
   },
   {
    "duration": 9,
    "start_time": "2022-04-24T23:45:51.244Z"
   },
   {
    "duration": 10,
    "start_time": "2022-04-24T23:45:54.265Z"
   },
   {
    "duration": 328,
    "start_time": "2022-04-25T01:23:01.806Z"
   },
   {
    "duration": 313,
    "start_time": "2022-04-25T01:36:33.974Z"
   },
   {
    "duration": 316,
    "start_time": "2022-04-25T01:36:45.012Z"
   },
   {
    "duration": 189,
    "start_time": "2022-04-25T01:36:50.020Z"
   },
   {
    "duration": 187,
    "start_time": "2022-04-25T01:36:57.466Z"
   },
   {
    "duration": 5570,
    "start_time": "2022-04-25T01:37:05.923Z"
   },
   {
    "duration": 1115,
    "start_time": "2022-04-25T01:37:54.597Z"
   },
   {
    "duration": 28,
    "start_time": "2022-04-25T01:37:55.714Z"
   },
   {
    "duration": 16,
    "start_time": "2022-04-25T01:37:55.744Z"
   },
   {
    "duration": 9,
    "start_time": "2022-04-25T01:37:55.761Z"
   },
   {
    "duration": 6,
    "start_time": "2022-04-25T01:37:55.772Z"
   },
   {
    "duration": 11,
    "start_time": "2022-04-25T01:37:55.779Z"
   },
   {
    "duration": 314,
    "start_time": "2022-04-25T01:37:55.791Z"
   },
   {
    "duration": 5951,
    "start_time": "2022-04-25T01:37:56.106Z"
   },
   {
    "duration": 3,
    "start_time": "2022-04-25T01:39:33.894Z"
   },
   {
    "duration": 309,
    "start_time": "2022-04-25T01:39:41.186Z"
   },
   {
    "duration": 278,
    "start_time": "2022-04-25T01:40:13.398Z"
   },
   {
    "duration": 323,
    "start_time": "2022-04-25T01:40:29.736Z"
   },
   {
    "duration": 1125,
    "start_time": "2022-04-25T01:40:40.407Z"
   },
   {
    "duration": 31,
    "start_time": "2022-04-25T01:40:42.444Z"
   },
   {
    "duration": 18,
    "start_time": "2022-04-25T01:40:43.402Z"
   },
   {
    "duration": 10,
    "start_time": "2022-04-25T01:40:43.684Z"
   },
   {
    "duration": 3,
    "start_time": "2022-04-25T01:40:46.492Z"
   },
   {
    "duration": 8,
    "start_time": "2022-04-25T01:40:48.531Z"
   },
   {
    "duration": 312,
    "start_time": "2022-04-25T01:40:53.516Z"
   },
   {
    "duration": 5601,
    "start_time": "2022-04-25T01:41:05.666Z"
   },
   {
    "duration": 89,
    "start_time": "2022-04-25T01:41:15.615Z"
   },
   {
    "duration": 6,
    "start_time": "2022-04-25T01:41:44.965Z"
   },
   {
    "duration": 6,
    "start_time": "2022-04-25T01:42:08.969Z"
   },
   {
    "duration": 5,
    "start_time": "2022-04-25T01:43:56.228Z"
   },
   {
    "duration": 9,
    "start_time": "2022-04-25T01:43:57.153Z"
   },
   {
    "duration": 8,
    "start_time": "2022-04-25T01:44:18.753Z"
   },
   {
    "duration": 183,
    "start_time": "2022-04-25T01:44:26.073Z"
   },
   {
    "duration": 9,
    "start_time": "2022-04-25T01:44:30.414Z"
   },
   {
    "duration": 173,
    "start_time": "2022-04-25T01:44:35.790Z"
   },
   {
    "duration": 194,
    "start_time": "2022-04-25T01:44:40.506Z"
   },
   {
    "duration": 7,
    "start_time": "2022-04-25T01:45:00.428Z"
   },
   {
    "duration": 8,
    "start_time": "2022-04-25T01:45:20.317Z"
   },
   {
    "duration": 5,
    "start_time": "2022-04-25T01:45:31.805Z"
   },
   {
    "duration": 5707,
    "start_time": "2022-04-25T01:45:54.479Z"
   },
   {
    "duration": 307,
    "start_time": "2022-04-25T01:46:10.349Z"
   },
   {
    "duration": 1110,
    "start_time": "2022-04-25T01:46:54.199Z"
   },
   {
    "duration": 18,
    "start_time": "2022-04-25T01:46:55.311Z"
   },
   {
    "duration": 16,
    "start_time": "2022-04-25T01:46:55.331Z"
   },
   {
    "duration": 9,
    "start_time": "2022-04-25T01:46:55.349Z"
   },
   {
    "duration": 3,
    "start_time": "2022-04-25T01:46:55.359Z"
   },
   {
    "duration": 6,
    "start_time": "2022-04-25T01:46:55.364Z"
   },
   {
    "duration": 403,
    "start_time": "2022-04-25T01:46:57.109Z"
   },
   {
    "duration": 18,
    "start_time": "2022-04-25T01:47:08.888Z"
   },
   {
    "duration": 316,
    "start_time": "2022-04-25T01:48:58.554Z"
   },
   {
    "duration": 23,
    "start_time": "2022-04-25T01:49:07.847Z"
   },
   {
    "duration": 1146,
    "start_time": "2022-04-25T01:51:18.262Z"
   },
   {
    "duration": 17,
    "start_time": "2022-04-25T01:51:19.410Z"
   },
   {
    "duration": 16,
    "start_time": "2022-04-25T01:51:19.429Z"
   },
   {
    "duration": 9,
    "start_time": "2022-04-25T01:51:19.447Z"
   },
   {
    "duration": 6,
    "start_time": "2022-04-25T01:51:19.457Z"
   },
   {
    "duration": 9,
    "start_time": "2022-04-25T01:51:19.464Z"
   },
   {
    "duration": 24,
    "start_time": "2022-04-25T01:51:27.750Z"
   },
   {
    "duration": 19,
    "start_time": "2022-04-25T01:51:34.171Z"
   },
   {
    "duration": 17,
    "start_time": "2022-04-25T01:51:41.972Z"
   },
   {
    "duration": 13,
    "start_time": "2022-04-25T01:51:54.427Z"
   },
   {
    "duration": 10,
    "start_time": "2022-04-25T01:51:59.434Z"
   },
   {
    "duration": 17,
    "start_time": "2022-04-25T01:52:03.050Z"
   },
   {
    "duration": 22,
    "start_time": "2022-04-25T01:52:05.115Z"
   },
   {
    "duration": 17,
    "start_time": "2022-04-25T01:52:08.173Z"
   },
   {
    "duration": 5576,
    "start_time": "2022-04-25T01:52:39.968Z"
   },
   {
    "duration": 27329,
    "start_time": "2022-04-25T01:52:59.196Z"
   },
   {
    "duration": 18,
    "start_time": "2022-04-25T01:58:04.485Z"
   },
   {
    "duration": 52,
    "start_time": "2022-04-25T01:58:08.381Z"
   },
   {
    "duration": 51,
    "start_time": "2022-04-25T01:58:15.962Z"
   },
   {
    "duration": 144,
    "start_time": "2022-04-25T01:59:22.657Z"
   },
   {
    "duration": 143,
    "start_time": "2022-04-25T01:59:47.149Z"
   },
   {
    "duration": 330,
    "start_time": "2022-04-25T01:59:55.119Z"
   },
   {
    "duration": 318,
    "start_time": "2022-04-25T02:00:21.924Z"
   },
   {
    "duration": 28596,
    "start_time": "2022-04-25T02:00:33.230Z"
   },
   {
    "duration": 27514,
    "start_time": "2022-04-25T02:01:37.486Z"
   },
   {
    "duration": 327,
    "start_time": "2022-04-25T02:02:14.446Z"
   },
   {
    "duration": 6,
    "start_time": "2022-04-25T02:02:24.067Z"
   },
   {
    "duration": 9,
    "start_time": "2022-04-25T02:03:10.317Z"
   },
   {
    "duration": 6,
    "start_time": "2022-04-25T02:38:50.936Z"
   },
   {
    "duration": 1131,
    "start_time": "2022-04-25T02:39:10.005Z"
   },
   {
    "duration": 28,
    "start_time": "2022-04-25T02:39:11.138Z"
   },
   {
    "duration": 18,
    "start_time": "2022-04-25T02:39:11.167Z"
   },
   {
    "duration": 11,
    "start_time": "2022-04-25T02:39:11.186Z"
   },
   {
    "duration": 3,
    "start_time": "2022-04-25T02:39:11.199Z"
   },
   {
    "duration": 13,
    "start_time": "2022-04-25T02:39:11.203Z"
   },
   {
    "duration": 325,
    "start_time": "2022-04-25T02:39:11.217Z"
   },
   {
    "duration": 27512,
    "start_time": "2022-04-25T02:39:11.543Z"
   },
   {
    "duration": 6,
    "start_time": "2022-04-25T02:39:39.056Z"
   },
   {
    "duration": 10,
    "start_time": "2022-04-25T02:39:39.063Z"
   },
   {
    "duration": 47,
    "start_time": "2022-04-25T10:12:48.162Z"
   },
   {
    "duration": 1577,
    "start_time": "2022-04-25T10:12:50.552Z"
   },
   {
    "duration": 13,
    "start_time": "2022-04-25T10:12:52.131Z"
   },
   {
    "duration": 11,
    "start_time": "2022-04-25T10:12:52.595Z"
   },
   {
    "duration": 4,
    "start_time": "2022-04-25T10:13:02.016Z"
   }
  ],
  "kernelspec": {
   "display_name": "Python 3 (ipykernel)",
   "language": "python",
   "name": "python3"
  },
  "language_info": {
   "codemirror_mode": {
    "name": "ipython",
    "version": 3
   },
   "file_extension": ".py",
   "mimetype": "text/x-python",
   "name": "python",
   "nbconvert_exporter": "python",
   "pygments_lexer": "ipython3",
   "version": "3.9.5"
  },
  "toc": {
   "base_numbering": 1,
   "nav_menu": {},
   "number_sections": true,
   "sideBar": true,
   "skip_h1_title": true,
   "title_cell": "Table of Contents",
   "title_sidebar": "Contents",
   "toc_cell": false,
   "toc_position": {},
   "toc_section_display": true,
   "toc_window_display": false
  }
 },
 "nbformat": 4,
 "nbformat_minor": 2
}
